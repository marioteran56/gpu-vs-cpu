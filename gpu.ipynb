{
  "nbformat": 4,
  "nbformat_minor": 0,
  "metadata": {
    "colab": {
      "provenance": [],
      "gpuType": "T4"
    },
    "kernelspec": {
      "name": "python3",
      "display_name": "Python 3"
    },
    "language_info": {
      "name": "python"
    },
    "accelerator": "GPU",
    "gpuClass": "standard"
  },
  "cells": [
    {
      "cell_type": "markdown",
      "source": [
        "### Importamos Tensorflow"
      ],
      "metadata": {
        "id": "GIoJxrGJ6yiX"
      }
    },
    {
      "cell_type": "code",
      "source": [
        "# Importaciones\n",
        "import tensorflow as tf"
      ],
      "metadata": {
        "id": "DPoPdvIz6jmT"
      },
      "execution_count": 1,
      "outputs": []
    },
    {
      "cell_type": "markdown",
      "source": [
        "### Verificamos la instalación de CUDA"
      ],
      "metadata": {
        "id": "L_YSzAar6_Qw"
      }
    },
    {
      "cell_type": "code",
      "source": [
        "!nvidia-smi"
      ],
      "metadata": {
        "colab": {
          "base_uri": "https://localhost:8080/"
        },
        "id": "WpWUbRkq7JbA",
        "outputId": "8c78b5ab-b502-41f3-fa1a-b0d1788b47e6"
      },
      "execution_count": 2,
      "outputs": [
        {
          "output_type": "stream",
          "name": "stdout",
          "text": [
            "Tue May 23 03:13:32 2023       \n",
            "+-----------------------------------------------------------------------------+\n",
            "| NVIDIA-SMI 525.85.12    Driver Version: 525.85.12    CUDA Version: 12.0     |\n",
            "|-------------------------------+----------------------+----------------------+\n",
            "| GPU  Name        Persistence-M| Bus-Id        Disp.A | Volatile Uncorr. ECC |\n",
            "| Fan  Temp  Perf  Pwr:Usage/Cap|         Memory-Usage | GPU-Util  Compute M. |\n",
            "|                               |                      |               MIG M. |\n",
            "|===============================+======================+======================|\n",
            "|   0  Tesla T4            Off  | 00000000:00:04.0 Off |                    0 |\n",
            "| N/A   71C    P8    11W /  70W |      0MiB / 15360MiB |      0%      Default |\n",
            "|                               |                      |                  N/A |\n",
            "+-------------------------------+----------------------+----------------------+\n",
            "                                                                               \n",
            "+-----------------------------------------------------------------------------+\n",
            "| Processes:                                                                  |\n",
            "|  GPU   GI   CI        PID   Type   Process name                  GPU Memory |\n",
            "|        ID   ID                                                   Usage      |\n",
            "|=============================================================================|\n",
            "|  No running processes found                                                 |\n",
            "+-----------------------------------------------------------------------------+\n"
          ]
        }
      ]
    },
    {
      "cell_type": "code",
      "source": [
        "# Verificar si CUDA está disponible y habilitar el uso de GPU\n",
        "if tf.config.list_physical_devices('GPU'):\n",
        "    print(\"CUDA está disponible. Utilizando GPU.\")\n",
        "    device_name = tf.test.gpu_device_name()\n",
        "else:\n",
        "    print(\"CUDA no está disponible. Utilizando CPU.\")\n",
        "    device_name = \"/cpu:0\""
      ],
      "metadata": {
        "colab": {
          "base_uri": "https://localhost:8080/"
        },
        "id": "QZwhPTsO689o",
        "outputId": "63569e3f-f383-44e5-f6f0-4cb19b452d98"
      },
      "execution_count": 3,
      "outputs": [
        {
          "output_type": "stream",
          "name": "stdout",
          "text": [
            "CUDA está disponible. Utilizando GPU.\n"
          ]
        }
      ]
    },
    {
      "cell_type": "markdown",
      "source": [
        "### Dataset"
      ],
      "metadata": {
        "id": "ixplXe5ZBMEM"
      }
    },
    {
      "cell_type": "code",
      "source": [
        "# Cargamos el dataser de Cifar10\n",
        "cifar = tf.keras.datasets.cifar10\n",
        "\n",
        "# Dividimos el dataset en train y test\n",
        "(x_train, y_train), (x_test, y_test) = cifar.load_data()"
      ],
      "metadata": {
        "id": "P1Mmrss7BIM5",
        "colab": {
          "base_uri": "https://localhost:8080/"
        },
        "outputId": "9ee22adf-e393-4028-aef0-bb1830c6c964"
      },
      "execution_count": 4,
      "outputs": [
        {
          "output_type": "stream",
          "name": "stdout",
          "text": [
            "Downloading data from https://www.cs.toronto.edu/~kriz/cifar-10-python.tar.gz\n",
            "170498071/170498071 [==============================] - 3s 0us/step\n"
          ]
        }
      ]
    },
    {
      "cell_type": "markdown",
      "source": [
        "### Preprocesamiento"
      ],
      "metadata": {
        "id": "rIVdxr-sBPmr"
      }
    },
    {
      "cell_type": "code",
      "source": [
        "# Normalizamos los datos\n",
        "model = tf.keras.applications.ResNet50(\n",
        "    include_top=True,\n",
        "    weights=None,\n",
        "    input_shape=(32, 32, 3),\n",
        "    classes=10)"
      ],
      "metadata": {
        "id": "CoqCwKVWBN03"
      },
      "execution_count": 5,
      "outputs": []
    },
    {
      "cell_type": "markdown",
      "source": [
        "### Modelo"
      ],
      "metadata": {
        "id": "WJ4BIR2eBWGc"
      }
    },
    {
      "cell_type": "code",
      "source": [
        "# Función de loss\n",
        "loss_fn = tf.keras.losses.SparseCategoricalCrossentropy(from_logits=True)\n",
        "\n",
        "# Compilamos el modelo\n",
        "model.compile(optimizer=\"adam\", loss=loss_fn, metrics=[\"accuracy\"])"
      ],
      "metadata": {
        "id": "FC8D5HQmBTkh"
      },
      "execution_count": 6,
      "outputs": []
    },
    {
      "cell_type": "markdown",
      "source": [
        "### Entrenamiento"
      ],
      "metadata": {
        "id": "I5VnqU_gBYNf"
      }
    },
    {
      "cell_type": "code",
      "source": [
        "import time\n",
        "\n",
        "# Entrenamos el modelo con GPU\n",
        "with tf.device(device_name):\n",
        "  start_time = time.time()\n",
        "  model.fit(x_train, y_train, epochs=5, batch_size=64)\n",
        "  print(\"Tiempo de entrenamiento: %s segundos\" % (time.time() - start_time))"
      ],
      "metadata": {
        "colab": {
          "base_uri": "https://localhost:8080/"
        },
        "id": "ksJIsgvjBbS2",
        "outputId": "43399eaa-ce63-435a-83ef-9587939969f5"
      },
      "execution_count": 7,
      "outputs": [
        {
          "output_type": "stream",
          "name": "stdout",
          "text": [
            "Epoch 1/5\n"
          ]
        },
        {
          "output_type": "stream",
          "name": "stderr",
          "text": [
            "/usr/local/lib/python3.10/dist-packages/keras/backend.py:5612: UserWarning: \"`sparse_categorical_crossentropy` received `from_logits=True`, but the `output` argument was produced by a Softmax activation and thus does not represent logits. Was this intended?\n",
            "  output, from_logits = _get_logits(\n"
          ]
        },
        {
          "output_type": "stream",
          "name": "stdout",
          "text": [
            "782/782 [==============================] - 83s 48ms/step - loss: 1.9971 - accuracy: 0.3609\n",
            "Epoch 2/5\n",
            "782/782 [==============================] - 33s 42ms/step - loss: 1.7427 - accuracy: 0.4313\n",
            "Epoch 3/5\n",
            "782/782 [==============================] - 35s 44ms/step - loss: 1.8944 - accuracy: 0.3800\n",
            "Epoch 4/5\n",
            "782/782 [==============================] - 34s 43ms/step - loss: 1.6352 - accuracy: 0.4558\n",
            "Epoch 5/5\n",
            "782/782 [==============================] - 34s 43ms/step - loss: 1.6297 - accuracy: 0.4629\n",
            "Tiempo de entrenamiento: 276.74919843673706 segundos\n"
          ]
        }
      ]
    },
    {
      "cell_type": "markdown",
      "source": [
        "### Evaulación"
      ],
      "metadata": {
        "id": "TrTCjxWwk5o1"
      }
    },
    {
      "cell_type": "code",
      "source": [
        "# Probamos el modelo con GPU\n",
        "with tf.device(device_name):\n",
        "  start_time = time.time()\n",
        "  model.evaluate(x_test, y_test, batch_size=64)\n",
        "  print(\"Tiempo de evaluación: %s segundos\" % (time.time() - start_time))"
      ],
      "metadata": {
        "colab": {
          "base_uri": "https://localhost:8080/"
        },
        "id": "jn-SLa0YkFa0",
        "outputId": "acb47079-d920-44c2-c1ea-621a7b606742"
      },
      "execution_count": 8,
      "outputs": [
        {
          "output_type": "stream",
          "name": "stdout",
          "text": [
            "157/157 [==============================] - 3s 12ms/step - loss: 1.5720 - accuracy: 0.4721\n",
            "Tiempo de evaluación: 3.08479380607605 segundos\n"
          ]
        }
      ]
    }
  ]
}