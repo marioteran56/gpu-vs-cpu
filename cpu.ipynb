{
  "nbformat": 4,
  "nbformat_minor": 0,
  "metadata": {
    "colab": {
      "provenance": [],
      "gpuType": "T4"
    },
    "kernelspec": {
      "name": "python3",
      "display_name": "Python 3"
    },
    "language_info": {
      "name": "python"
    },
    "gpuClass": "standard"
  },
  "cells": [
    {
      "cell_type": "markdown",
      "source": [
        "### Importamos Tensorflow"
      ],
      "metadata": {
        "id": "GIoJxrGJ6yiX"
      }
    },
    {
      "cell_type": "code",
      "source": [
        "# Importaciones\n",
        "import tensorflow as tf"
      ],
      "metadata": {
        "id": "DPoPdvIz6jmT"
      },
      "execution_count": 1,
      "outputs": []
    },
    {
      "cell_type": "markdown",
      "source": [
        "### Verificamos la falta de CUDA"
      ],
      "metadata": {
        "id": "L_YSzAar6_Qw"
      }
    },
    {
      "cell_type": "code",
      "source": [
        "# Verificar que CUDA no esté disponible y habilitar el uso de CPU\n",
        "if tf.config.list_physical_devices('GPU'):\n",
        "    print(\"CUDA está disponible. Utilizando GPU.\")\n",
        "    device_name = tf.test.gpu_device_name()\n",
        "else:\n",
        "    print(\"CUDA no está disponible. Utilizando CPU.\")\n",
        "    device_name = \"/cpu:0\""
      ],
      "metadata": {
        "colab": {
          "base_uri": "https://localhost:8080/"
        },
        "id": "QZwhPTsO689o",
        "outputId": "4de08eae-9c89-4da2-887f-199045d6d661"
      },
      "execution_count": 2,
      "outputs": [
        {
          "output_type": "stream",
          "name": "stdout",
          "text": [
            "CUDA no está disponible. Utilizando CPU.\n"
          ]
        }
      ]
    },
    {
      "cell_type": "markdown",
      "source": [
        "### Dataset"
      ],
      "metadata": {
        "id": "ixplXe5ZBMEM"
      }
    },
    {
      "cell_type": "code",
      "source": [
        "# Cargamos el dataser de Cifar10\n",
        "cifar = tf.keras.datasets.cifar10\n",
        "\n",
        "# Dividimos el dataset en train y test\n",
        "(x_train, y_train), (x_test, y_test) = cifar.load_data()"
      ],
      "metadata": {
        "id": "P1Mmrss7BIM5"
      },
      "execution_count": 3,
      "outputs": []
    },
    {
      "cell_type": "markdown",
      "source": [
        "### Preprocesamiento"
      ],
      "metadata": {
        "id": "rIVdxr-sBPmr"
      }
    },
    {
      "cell_type": "code",
      "source": [
        "# Normalizamos los datos\n",
        "model = tf.keras.applications.ResNet50(\n",
        "    include_top=True,\n",
        "    weights=None,\n",
        "    input_shape=(32, 32, 3),\n",
        "    classes=10)"
      ],
      "metadata": {
        "id": "CoqCwKVWBN03"
      },
      "execution_count": 4,
      "outputs": []
    },
    {
      "cell_type": "markdown",
      "source": [
        "### Modelo"
      ],
      "metadata": {
        "id": "WJ4BIR2eBWGc"
      }
    },
    {
      "cell_type": "code",
      "source": [
        "# Función de loss\n",
        "loss_fn = tf.keras.losses.SparseCategoricalCrossentropy(from_logits=True)\n",
        "\n",
        "# Compilamos el modelo\n",
        "model.compile(optimizer=\"adam\", loss=loss_fn, metrics=[\"accuracy\"])"
      ],
      "metadata": {
        "id": "FC8D5HQmBTkh"
      },
      "execution_count": 5,
      "outputs": []
    },
    {
      "cell_type": "markdown",
      "source": [
        "### Entrenamiento"
      ],
      "metadata": {
        "id": "I5VnqU_gBYNf"
      }
    },
    {
      "cell_type": "code",
      "source": [
        "import time\n",
        "\n",
        "# Entrenamos el modelo con CPU\n",
        "with tf.device(device_name):\n",
        "  start_time = time.time()\n",
        "  model.fit(x_train, y_train, epochs=1, batch_size=64)\n",
        "  print(\"Tiempo de entrenamiento: %s segundos\" % (time.time() - start_time))"
      ],
      "metadata": {
        "colab": {
          "base_uri": "https://localhost:8080/"
        },
        "id": "ksJIsgvjBbS2",
        "outputId": "727affe7-35e4-465c-91fa-f907d995ee31"
      },
      "execution_count": 6,
      "outputs": [
        {
          "output_type": "stream",
          "name": "stderr",
          "text": [
            "/usr/local/lib/python3.10/dist-packages/keras/backend.py:5612: UserWarning: \"`sparse_categorical_crossentropy` received `from_logits=True`, but the `output` argument was produced by a Softmax activation and thus does not represent logits. Was this intended?\n",
            "  output, from_logits = _get_logits(\n"
          ]
        },
        {
          "output_type": "stream",
          "name": "stdout",
          "text": [
            "782/782 [==============================] - 3519s 4s/step - loss: 1.8932 - accuracy: 0.3821\n",
            "Tiempo de entrenamiento: 3520.948481798172 segundos\n"
          ]
        }
      ]
    },
    {
      "cell_type": "markdown",
      "source": [
        "### Evaulación"
      ],
      "metadata": {
        "id": "TrTCjxWwk5o1"
      }
    },
    {
      "cell_type": "code",
      "source": [
        "# Probamos el modelo con CPU\n",
        "with tf.device(device_name):\n",
        "  start_time = time.time()\n",
        "  model.evaluate(x_test, y_test, batch_size=64)\n",
        "  print(\"Tiempo de evaluación: %s segundos\" % (time.time() - start_time))"
      ],
      "metadata": {
        "id": "jn-SLa0YkFa0",
        "colab": {
          "base_uri": "https://localhost:8080/"
        },
        "outputId": "693e3307-5f5b-47c7-cb9c-a1104e040b11"
      },
      "execution_count": 7,
      "outputs": [
        {
          "output_type": "stream",
          "name": "stdout",
          "text": [
            "157/157 [==============================] - 40s 241ms/step - loss: 22.1859 - accuracy: 0.1127\n",
            "Tiempo de evaluación: 39.97402310371399 segundos\n"
          ]
        }
      ]
    }
  ]
}